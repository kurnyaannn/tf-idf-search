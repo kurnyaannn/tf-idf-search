{
 "cells": [
  {
   "cell_type": "markdown",
   "metadata": {},
   "source": [
    "# TF-IDF Search Using Cosine Similarity"
   ]
  },
  {
   "cell_type": "markdown",
   "metadata": {},
   "source": [
    "# Import Packages"
   ]
  },
  {
   "cell_type": "code",
   "execution_count": 1,
   "metadata": {},
   "outputs": [],
   "source": [
    "import numpy as np\n",
    "import pandas as pd\n",
    "\n",
    "from sklearn.feature_extraction.text import TfidfVectorizer\n",
    "from sklearn.feature_extraction.text import CountVectorizer\n",
    "from sklearn.metrics.pairwise import cosine_similarity"
   ]
  },
  {
   "cell_type": "markdown",
   "metadata": {},
   "source": [
    "# Read Dataset"
   ]
  },
  {
   "cell_type": "markdown",
   "metadata": {},
   "source": [
    "Read dataset dan merubahnya menjadi objek dalam DataFrame dengan menggunakan method read_csv dari package panda"
   ]
  },
  {
   "cell_type": "code",
   "execution_count": 2,
   "metadata": {},
   "outputs": [
    {
     "data": {
      "text/html": [
       "<div>\n",
       "<style scoped>\n",
       "    .dataframe tbody tr th:only-of-type {\n",
       "        vertical-align: middle;\n",
       "    }\n",
       "\n",
       "    .dataframe tbody tr th {\n",
       "        vertical-align: top;\n",
       "    }\n",
       "\n",
       "    .dataframe thead th {\n",
       "        text-align: right;\n",
       "    }\n",
       "</style>\n",
       "<table border=\"1\" class=\"dataframe\">\n",
       "  <thead>\n",
       "    <tr style=\"text-align: right;\">\n",
       "      <th></th>\n",
       "      <th>document</th>\n",
       "      <th>text</th>\n",
       "    </tr>\n",
       "  </thead>\n",
       "  <tbody>\n",
       "    <tr>\n",
       "      <th>0</th>\n",
       "      <td>A</td>\n",
       "      <td>90% data yang ada di dunia, dibuat hanya dalam dua tahun terakhir</td>\n",
       "    </tr>\n",
       "    <tr>\n",
       "      <th>1</th>\n",
       "      <td>B</td>\n",
       "      <td>Suhu tubuh merupakan contoh dari data kontinu</td>\n",
       "    </tr>\n",
       "    <tr>\n",
       "      <th>2</th>\n",
       "      <td>C</td>\n",
       "      <td>Dalam era revolusi industri 4.0 ini, data menjadi mata uang baru</td>\n",
       "    </tr>\n",
       "    <tr>\n",
       "      <th>3</th>\n",
       "      <td>D</td>\n",
       "      <td>Data scientist bertugas menganalisis berbagai macam data dalam jumlah besar</td>\n",
       "    </tr>\n",
       "    <tr>\n",
       "      <th>4</th>\n",
       "      <td>E</td>\n",
       "      <td>Indexing atau pengindeksan merupakan suatu proses penting dalam IR</td>\n",
       "    </tr>\n",
       "    <tr>\n",
       "      <th>5</th>\n",
       "      <td>F</td>\n",
       "      <td>Informasi adalah data yang disimpan, diproses, atau ditransmisikan</td>\n",
       "    </tr>\n",
       "    <tr>\n",
       "      <th>6</th>\n",
       "      <td>G</td>\n",
       "      <td>Data adalah catatan atas kumpulan fakta</td>\n",
       "    </tr>\n",
       "    <tr>\n",
       "      <th>7</th>\n",
       "      <td>H</td>\n",
       "      <td>Machine Learning merupakan salah satu cabang dari disiplin ilmu Kecerdasan Buatan (AI) yang membahas mengenai pembangunan sistem yang berdasarkan pada data</td>\n",
       "    </tr>\n",
       "    <tr>\n",
       "      <th>8</th>\n",
       "      <td>I</td>\n",
       "      <td>Jaringan saraf tiruan, adalah jaringan dari sekelompok unit pemroses kecil yang dimodelkan berdasarkan sistem saraf manusia</td>\n",
       "    </tr>\n",
       "    <tr>\n",
       "      <th>9</th>\n",
       "      <td>J</td>\n",
       "      <td>Multilayer perceptron adalah kelas jaringan saraf tiruan feedforward</td>\n",
       "    </tr>\n",
       "    <tr>\n",
       "      <th>10</th>\n",
       "      <td>K</td>\n",
       "      <td>Information retrieval (IR) adalah proses memperoleh sumber daya sistem informasi yang relevan dengan kebutuhan informasi dari kumpulan sumber daya tersebut</td>\n",
       "    </tr>\n",
       "    <tr>\n",
       "      <th>11</th>\n",
       "      <td>L</td>\n",
       "      <td>Perceptron adalah algoritma pada pembelajaran terbimbing untuk melakukan klasifikasi biner (dua jenis)</td>\n",
       "    </tr>\n",
       "    <tr>\n",
       "      <th>12</th>\n",
       "      <td>M</td>\n",
       "      <td>Algoritma genetik adalah teknik pencarian yang di dalam ilmu komputer untuk menemukan penyelesaian perkiraan untuk optimisasi dan masalah pencarian</td>\n",
       "    </tr>\n",
       "    <tr>\n",
       "      <th>13</th>\n",
       "      <td>N</td>\n",
       "      <td>Dari abad ke-18 sampai akhir abad ke-20, sejarah sains, khususnya ilmu fisika dan biologi, sering disajikan dalam narasi progresif yang mana teori yang benar menggantikan keyakinan yang salah</td>\n",
       "    </tr>\n",
       "    <tr>\n",
       "      <th>14</th>\n",
       "      <td>O</td>\n",
       "      <td>Perpustakaan Besar Aleksandria di Kota Aleksandria, Mesir merupakan salah satu perpustakaan terbesar dan terpenting pada zaman kuno</td>\n",
       "    </tr>\n",
       "    <tr>\n",
       "      <th>15</th>\n",
       "      <td>P</td>\n",
       "      <td>Pemrograman  adalah proses menulis, menguji dan memperbaiki (debug), dan memelihara kode yang membangun suatu program komputer</td>\n",
       "    </tr>\n",
       "    <tr>\n",
       "      <th>16</th>\n",
       "      <td>Q</td>\n",
       "      <td>Probabilitas dapat dipahami sebagai suatu nilai yang menunjukkan seberapa besar kemungkinan terjadinya suatu peristiwa</td>\n",
       "    </tr>\n",
       "    <tr>\n",
       "      <th>17</th>\n",
       "      <td>R</td>\n",
       "      <td>Informasi adalah pesan (ucapan atau ekspresi) atau kumpulan pesan yang terdiri dari order sekuens dari simbol, atau makna yang dapat ditafsirkan dari pesan atau kumpulan pesan</td>\n",
       "    </tr>\n",
       "    <tr>\n",
       "      <th>18</th>\n",
       "      <td>S</td>\n",
       "      <td>Tujuan utama Information Retrieval adalah untuk menemukan dokumen yang sesuai dengan kebutuhan informasi pengguna secara efektif dan efisien</td>\n",
       "    </tr>\n",
       "    <tr>\n",
       "      <th>19</th>\n",
       "      <td>T</td>\n",
       "      <td>Model ruang vektor dan model probabilistik adalah model yang menggunakan pembobotan kata dan perangkingan dokumen</td>\n",
       "    </tr>\n",
       "  </tbody>\n",
       "</table>\n",
       "</div>"
      ],
      "text/plain": [
       "   document  \\\n",
       "0         A   \n",
       "1         B   \n",
       "2         C   \n",
       "3         D   \n",
       "4         E   \n",
       "5         F   \n",
       "6         G   \n",
       "7         H   \n",
       "8         I   \n",
       "9         J   \n",
       "10        K   \n",
       "11        L   \n",
       "12        M   \n",
       "13        N   \n",
       "14        O   \n",
       "15        P   \n",
       "16        Q   \n",
       "17        R   \n",
       "18        S   \n",
       "19        T   \n",
       "\n",
       "                                                                                                                                                                                               text  \n",
       "0                                                                                                                                 90% data yang ada di dunia, dibuat hanya dalam dua tahun terakhir  \n",
       "1                                                                                                                                                     Suhu tubuh merupakan contoh dari data kontinu  \n",
       "2                                                                                                                                  Dalam era revolusi industri 4.0 ini, data menjadi mata uang baru  \n",
       "3                                                                                                                       Data scientist bertugas menganalisis berbagai macam data dalam jumlah besar  \n",
       "4                                                                                                                                Indexing atau pengindeksan merupakan suatu proses penting dalam IR  \n",
       "5                                                                                                                                Informasi adalah data yang disimpan, diproses, atau ditransmisikan  \n",
       "6                                                                                                                                                           Data adalah catatan atas kumpulan fakta  \n",
       "7                                       Machine Learning merupakan salah satu cabang dari disiplin ilmu Kecerdasan Buatan (AI) yang membahas mengenai pembangunan sistem yang berdasarkan pada data  \n",
       "8                                                                       Jaringan saraf tiruan, adalah jaringan dari sekelompok unit pemroses kecil yang dimodelkan berdasarkan sistem saraf manusia  \n",
       "9                                                                                                                              Multilayer perceptron adalah kelas jaringan saraf tiruan feedforward  \n",
       "10                                      Information retrieval (IR) adalah proses memperoleh sumber daya sistem informasi yang relevan dengan kebutuhan informasi dari kumpulan sumber daya tersebut  \n",
       "11                                                                                           Perceptron adalah algoritma pada pembelajaran terbimbing untuk melakukan klasifikasi biner (dua jenis)  \n",
       "12                                              Algoritma genetik adalah teknik pencarian yang di dalam ilmu komputer untuk menemukan penyelesaian perkiraan untuk optimisasi dan masalah pencarian  \n",
       "13  Dari abad ke-18 sampai akhir abad ke-20, sejarah sains, khususnya ilmu fisika dan biologi, sering disajikan dalam narasi progresif yang mana teori yang benar menggantikan keyakinan yang salah  \n",
       "14                                                              Perpustakaan Besar Aleksandria di Kota Aleksandria, Mesir merupakan salah satu perpustakaan terbesar dan terpenting pada zaman kuno  \n",
       "15                                                                   Pemrograman  adalah proses menulis, menguji dan memperbaiki (debug), dan memelihara kode yang membangun suatu program komputer  \n",
       "16                                                                           Probabilitas dapat dipahami sebagai suatu nilai yang menunjukkan seberapa besar kemungkinan terjadinya suatu peristiwa  \n",
       "17                  Informasi adalah pesan (ucapan atau ekspresi) atau kumpulan pesan yang terdiri dari order sekuens dari simbol, atau makna yang dapat ditafsirkan dari pesan atau kumpulan pesan  \n",
       "18                                                     Tujuan utama Information Retrieval adalah untuk menemukan dokumen yang sesuai dengan kebutuhan informasi pengguna secara efektif dan efisien  \n",
       "19                                                                                Model ruang vektor dan model probabilistik adalah model yang menggunakan pembobotan kata dan perangkingan dokumen  "
      ]
     },
     "execution_count": 2,
     "metadata": {},
     "output_type": "execute_result"
    }
   ],
   "source": [
    "df = pd.read_csv('documents.csv')\n",
    "pd.set_option('display.max_colwidth', None)\n",
    "df.head(None)"
   ]
  },
  {
   "cell_type": "markdown",
   "metadata": {},
   "source": [
    "# TF-IDF Search Engine"
   ]
  },
  {
   "cell_type": "markdown",
   "metadata": {},
   "source": [
    "Merubah collection dalam dataset menjadi matriks TF-IDF"
   ]
  },
  {
   "cell_type": "code",
   "execution_count": 3,
   "metadata": {},
   "outputs": [],
   "source": [
    "vectorizer = TfidfVectorizer()"
   ]
  },
  {
   "cell_type": "markdown",
   "metadata": {},
   "source": [
    "Method fit_transform digunakan untuk merubah teks yang diberikan menjadi skor TF-IDF untuk semua dokumen dan menyimpannya dalam bentuk objek (['banyak_dokumen', 'banyak_kata'])"
   ]
  },
  {
   "cell_type": "code",
   "execution_count": 4,
   "metadata": {},
   "outputs": [],
   "source": [
    "X = vectorizer.fit_transform(df['text'])"
   ]
  },
  {
   "cell_type": "code",
   "execution_count": 5,
   "metadata": {},
   "outputs": [
    {
     "name": "stdout",
     "output_type": "stream",
     "text": [
      "(20, 177)\n"
     ]
    }
   ],
   "source": [
    "print(X.shape)"
   ]
  },
  {
   "cell_type": "markdown",
   "metadata": {},
   "source": [
    "# Query Processing"
   ]
  },
  {
   "cell_type": "markdown",
   "metadata": {},
   "source": [
    "Input query"
   ]
  },
  {
   "cell_type": "code",
   "execution_count": 6,
   "metadata": {},
   "outputs": [],
   "source": [
    "query = \"data\""
   ]
  },
  {
   "cell_type": "markdown",
   "metadata": {},
   "source": [
    "Menggunakan method cosine_similarity untuk mendapatkan cosine similarity dari query yang diinputkan untuk semua dokumen pada dataset"
   ]
  },
  {
   "cell_type": "code",
   "execution_count": 7,
   "metadata": {},
   "outputs": [],
   "source": [
    "query_vec = vectorizer.transform([query])\n",
    "results = cosine_similarity(X,query_vec).reshape((-1,))"
   ]
  },
  {
   "cell_type": "markdown",
   "metadata": {},
   "source": [
    "# Print Results"
   ]
  },
  {
   "cell_type": "markdown",
   "metadata": {},
   "source": [
    "Menampilkan hasil pencarian dari query yang diinputkan dan melakukan ranking terhadap dokumen tersebut"
   ]
  },
  {
   "cell_type": "code",
   "execution_count": 8,
   "metadata": {},
   "outputs": [
    {
     "name": "stdout",
     "output_type": "stream",
     "text": [
      "\u001b[1m\u001b[91mD\u001b[0m\n",
      "Data scientist bertugas menganalisis berbagai macam data dalam jumlah besar\n",
      "\n",
      "\u001b[1m\u001b[91mG\u001b[0m\n",
      "Data adalah catatan atas kumpulan fakta\n",
      "\n",
      "\u001b[1m\u001b[91mF\u001b[0m\n",
      "Informasi adalah data yang disimpan, diproses, atau ditransmisikan\n",
      "\n",
      "\u001b[1m\u001b[91mB\u001b[0m\n",
      "Suhu tubuh merupakan contoh dari data kontinu\n",
      "\n",
      "\u001b[1m\u001b[91mC\u001b[0m\n",
      "Dalam era revolusi industri 4.0 ini, data menjadi mata uang baru\n",
      "\n"
     ]
    }
   ],
   "source": [
    "for i in results.argsort()[-5:][::-1]:\n",
    "    print('\\033[1m' + '\\033[91m' + df.iloc[i,0] + '\\033[0m')\n",
    "    print(df.iloc[i,1] + \"\\n\")"
   ]
  },
  {
   "cell_type": "code",
   "execution_count": null,
   "metadata": {},
   "outputs": [],
   "source": []
  }
 ],
 "metadata": {
  "kernelspec": {
   "display_name": "Python 3",
   "language": "python",
   "name": "python3"
  },
  "language_info": {
   "codemirror_mode": {
    "name": "ipython",
    "version": 3
   },
   "file_extension": ".py",
   "mimetype": "text/x-python",
   "name": "python",
   "nbconvert_exporter": "python",
   "pygments_lexer": "ipython3",
   "version": "3.8.6"
  }
 },
 "nbformat": 4,
 "nbformat_minor": 2
}
